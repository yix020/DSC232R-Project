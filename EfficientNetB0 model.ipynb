{
 "cells": [
  {
   "cell_type": "markdown",
   "id": "1b075c3d",
   "metadata": {},
   "source": [
    "Dataset link: https://www.kaggle.com/datasets/mikoajkoek/traffic-road-object-detection-polish-12k"
   ]
  },
  {
   "cell_type": "code",
   "execution_count": 1,
   "id": "0ccdbd28",
   "metadata": {},
   "outputs": [],
   "source": [
    "import torch\n",
    "import torch.nn as nn\n",
    "import torch.optim as optim\n",
    "from torchvision import transforms, models\n",
    "from torch.utils.data import Dataset, DataLoader\n",
    "from PIL import Image\n",
    "import os\n",
    "import glob\n",
    "import numpy as np\n",
    "from sklearn.metrics import classification_report, confusion_matrix\n",
    "import matplotlib.pyplot as plt"
   ]
  },
  {
   "cell_type": "markdown",
   "id": "0ca1ef27",
   "metadata": {},
   "source": [
    "## Configuration"
   ]
  },
  {
   "cell_type": "code",
   "execution_count": 2,
   "id": "8f9920ed",
   "metadata": {},
   "outputs": [],
   "source": [
    "device = torch.device(\"cuda\" if torch.cuda.is_available() else \"cpu\")"
   ]
  },
  {
   "cell_type": "code",
   "execution_count": 3,
   "id": "37de9a5a",
   "metadata": {},
   "outputs": [],
   "source": [
    "root_dir = 'Road_Detection_Data/road_detection/road_detection'\n",
    "image_size = 128\n",
    "batch_size = 64\n",
    "num_epochs = 30\n",
    "num_classes = 11 "
   ]
  },
  {
   "cell_type": "markdown",
   "id": "2d018c12",
   "metadata": {},
   "source": [
    "## Custom Dataset for YOLO-Style Labels"
   ]
  },
  {
   "cell_type": "code",
   "execution_count": 4,
   "id": "abe0a27d",
   "metadata": {},
   "outputs": [],
   "source": [
    "class RoadDataset(Dataset):\n",
    "    def __init__(self, img_dir, label_dir, transform=None):\n",
    "        self.img_dir = img_dir\n",
    "        self.label_dir = label_dir\n",
    "        self.transform = transform\n",
    "        self.img_paths = sorted(glob.glob(os.path.join(img_dir, '*.jpg')))\n",
    "\n",
    "    def __len__(self):\n",
    "        return len(self.img_paths)\n",
    "\n",
    "    def __getitem__(self, idx):\n",
    "        img_path = self.img_paths[idx]\n",
    "        image = Image.open(img_path).convert('RGB')\n",
    "        label_path = os.path.join(self.label_dir, os.path.splitext(os.path.basename(img_path))[0] + '.txt')\n",
    "        with open(label_path, 'r') as f:\n",
    "            line = f.readline()\n",
    "            label = int(line.strip().split()[0]) if line else 0\n",
    "        if self.transform:\n",
    "            image = self.transform(image)\n",
    "        return image, label\n"
   ]
  },
  {
   "cell_type": "markdown",
   "id": "21146f6a",
   "metadata": {},
   "source": [
    "## Transforms"
   ]
  },
  {
   "cell_type": "code",
   "execution_count": 5,
   "id": "17db627c",
   "metadata": {},
   "outputs": [],
   "source": [
    "train_transforms = transforms.Compose([\n",
    "    transforms.RandomResizedCrop(image_size, scale=(0.7, 1.0)),\n",
    "    transforms.RandomHorizontalFlip(),\n",
    "    transforms.RandomRotation(10),\n",
    "    transforms.ColorJitter(brightness=0.3, contrast=0.3, saturation=0.3, hue=0.05),\n",
    "    transforms.ToTensor(),\n",
    "    transforms.Normalize((0.5,), (0.5,))\n",
    "])\n",
    "\n",
    "val_test_transforms = transforms.Compose([\n",
    "    transforms.Resize((image_size, image_size)),\n",
    "    transforms.ToTensor(),\n",
    "    transforms.Normalize((0.5,), (0.5,))\n",
    "])"
   ]
  },
  {
   "cell_type": "markdown",
   "id": "c6b5425e",
   "metadata": {},
   "source": [
    "## Load Datasets"
   ]
  },
  {
   "cell_type": "code",
   "execution_count": 6,
   "id": "73f705a9",
   "metadata": {},
   "outputs": [
    {
     "name": "stdout",
     "output_type": "stream",
     "text": [
      "📷 Train images found: 10474\n",
      "📝 Train labels found: 3534\n"
     ]
    }
   ],
   "source": [
    "train_img_path = os.path.join(root_dir, 'train/images')\n",
    "train_label_path = os.path.join(root_dir, 'train/labels')\n",
    "val_img_path = os.path.join(root_dir, 'valid/images')\n",
    "val_label_path = os.path.join(root_dir, 'valid/labels')\n",
    "test_img_path = os.path.join(root_dir, 'test/images')\n",
    "test_label_path = os.path.join(root_dir, 'test/labels')\n",
    "\n",
    "# 🔍 Debug: check file counts\n",
    "train_images = glob.glob(os.path.join(train_img_path, '*.jpg')) + glob.glob(os.path.join(train_img_path, '*.png'))\n",
    "train_labels = glob.glob(os.path.join(train_label_path, '*.txt'))\n",
    "print(\"📷 Train images found:\", len(train_images))\n",
    "print(\"📝 Train labels found:\", len(train_labels))\n",
    "\n",
    "# Load Datasets\n",
    "train_dataset = RoadDataset(\n",
    "    img_dir=train_img_path,\n",
    "    label_dir=train_label_path,\n",
    "    transform=train_transforms\n",
    ")\n",
    "\n",
    "val_dataset = RoadDataset(\n",
    "    img_dir=val_img_path,\n",
    "    label_dir=val_label_path,\n",
    "    transform=val_test_transforms\n",
    ")\n",
    "\n",
    "test_dataset = RoadDataset(\n",
    "    img_dir=test_img_path,\n",
    "    label_dir=test_label_path,\n",
    "    transform=val_test_transforms\n",
    ")\n",
    "\n",
    "# Dataloaders\n",
    "train_loader = DataLoader(train_dataset, batch_size=batch_size, shuffle=True)\n",
    "val_loader = DataLoader(val_dataset, batch_size=batch_size, shuffle=False)\n",
    "test_loader = DataLoader(test_dataset, batch_size=batch_size, shuffle=False)"
   ]
  },
  {
   "cell_type": "markdown",
   "id": "b732e553",
   "metadata": {},
   "source": [
    "## Model: EfficientNetB0"
   ]
  },
  {
   "cell_type": "code",
   "execution_count": 7,
   "id": "be419657",
   "metadata": {},
   "outputs": [],
   "source": [
    "model = models.efficientnet_b0(weights='IMAGENET1K_V1')\n",
    "model.classifier[1] = nn.Sequential(\n",
    "    nn.Dropout(0.6),  \n",
    "    nn.Linear(model.classifier[1].in_features, num_classes)\n",
    ")\n",
    "model = model.to(device)"
   ]
  },
  {
   "cell_type": "markdown",
   "id": "4addb98f",
   "metadata": {},
   "source": [
    "## Class Weights from data.csv"
   ]
  },
  {
   "cell_type": "code",
   "execution_count": 8,
   "id": "8862cd07",
   "metadata": {},
   "outputs": [],
   "source": [
    "class_weights = torch.tensor([\n",
    "    0.009398,  # Car\n",
    "    0.013273,  # Different-Traffic-Sign\n",
    "    0.055564,  # Red-Traffic-Light\n",
    "    0.055061,  # Pedestrian\n",
    "    0.082195,  # Warning-Sign\n",
    "    0.093985,  # Pedestrian-Crossing\n",
    "    0.111401,  # Green-Traffic-Light\n",
    "    0.113080,  # Prohibition-Sign\n",
    "    0.109511,  # Truck\n",
    "    0.194491,  # Speed-Limit-Sign\n",
    "    1.944682   # Motorcycle\n",
    "], dtype=torch.float).to(device)\n",
    "\n",
    "criterion = nn.CrossEntropyLoss(weight=class_weights)"
   ]
  },
  {
   "cell_type": "markdown",
   "id": "ab1c62f5",
   "metadata": {},
   "source": [
    "## Optimizer and LR Scheduler\n"
   ]
  },
  {
   "cell_type": "code",
   "execution_count": 9,
   "id": "a8f7f03f",
   "metadata": {
    "scrolled": true
   },
   "outputs": [
    {
     "name": "stderr",
     "output_type": "stream",
     "text": [
      "/Users/cara/anaconda3/lib/python3.11/site-packages/torch/optim/lr_scheduler.py:28: UserWarning: The verbose parameter is deprecated. Please use get_last_lr() to access the learning rate.\n",
      "  warnings.warn(\"The verbose parameter is deprecated. Please use get_last_lr() \"\n"
     ]
    }
   ],
   "source": [
    "\n",
    "optimizer = optim.Adam(model.parameters(), lr=0.001, weight_decay=1e-4)\n",
    "scheduler = optim.lr_scheduler.ReduceLROnPlateau(optimizer, 'min', patience=3, verbose=True)\n"
   ]
  },
  {
   "cell_type": "markdown",
   "id": "d8fe78cc",
   "metadata": {},
   "source": [
    "## Training Loop - EfficientNetB0 model"
   ]
  },
  {
   "cell_type": "code",
   "execution_count": 10,
   "id": "b84aa70b",
   "metadata": {},
   "outputs": [
    {
     "name": "stdout",
     "output_type": "stream",
     "text": [
      "Epoch 1/30, Train Loss: 1.7229, Val Loss: 2.0535\n",
      "Epoch 2/30, Train Loss: 1.1316, Val Loss: 1.9827\n",
      "Epoch 3/30, Train Loss: 0.9487, Val Loss: 2.2181\n",
      "Epoch 4/30, Train Loss: 0.8509, Val Loss: 1.4778\n",
      "Epoch 5/30, Train Loss: 0.7751, Val Loss: 1.9342\n",
      "Epoch 6/30, Train Loss: 0.7076, Val Loss: 2.2601\n",
      "Epoch 7/30, Train Loss: 0.5905, Val Loss: 1.8831\n",
      "Epoch 8/30, Train Loss: 0.5766, Val Loss: 2.0128\n",
      "Epoch 9/30, Train Loss: 0.5693, Val Loss: 1.9099\n",
      "Early stopping.\n"
     ]
    }
   ],
   "source": [
    "best_val_loss = float('inf')\n",
    "patience = 5\n",
    "trigger_times = 0\n",
    "\n",
    "for epoch in range(num_epochs):\n",
    "    model.train()\n",
    "    train_loss = 0\n",
    "    for images, labels in train_loader:\n",
    "        images, labels = images.to(device), labels.to(device)\n",
    "        optimizer.zero_grad()\n",
    "        outputs = model(images)\n",
    "        loss = criterion(outputs, labels)\n",
    "        loss.backward()\n",
    "        optimizer.step()\n",
    "        train_loss += loss.item() * images.size(0)\n",
    "    \n",
    "    avg_train_loss = train_loss / len(train_loader.dataset)\n",
    "\n",
    "    # Validation\n",
    "    model.eval()\n",
    "    val_loss = 0\n",
    "    with torch.no_grad():\n",
    "        for images, labels in val_loader:\n",
    "            images, labels = images.to(device), labels.to(device)\n",
    "            outputs = model(images)\n",
    "            loss = criterion(outputs, labels)\n",
    "            val_loss += loss.item() * images.size(0)\n",
    "\n",
    "    avg_val_loss = val_loss / len(val_loader.dataset)\n",
    "    scheduler.step(avg_val_loss)\n",
    "    \n",
    "    print(f\"Epoch {epoch+1}/{num_epochs}, Train Loss: {avg_train_loss:.4f}, Val Loss: {avg_val_loss:.4f}\")\n",
    "\n",
    "    if avg_val_loss < best_val_loss:\n",
    "        best_val_loss = avg_val_loss\n",
    "        torch.save(model.state_dict(), \"best_model.pth\")\n",
    "        trigger_times = 0\n",
    "    else:\n",
    "        trigger_times += 1\n",
    "        if trigger_times >= patience:\n",
    "            print(\"Early stopping.\")\n",
    "            break"
   ]
  },
  {
   "cell_type": "markdown",
   "id": "72bd32fb",
   "metadata": {},
   "source": [
    "The model was trained with early stopping enabled, using a patience of 5 epochs. Training loss steadily improved from 1.7229 to 0.5693, indicating that the model was fitting the training data effectively. However, the validation loss fluctuated without sustained improvement — initially decreasing but rising again in later epochs (e.g., peaking at 2.2601 on epoch 6). The best validation loss occurred at epoch 4 (1.4778). Since no improvement was seen for 5 consecutive epochs, training halted early at epoch 9."
   ]
  },
  {
   "cell_type": "markdown",
   "id": "35160712",
   "metadata": {},
   "source": [
    "## Evaluation"
   ]
  },
  {
   "cell_type": "code",
   "execution_count": 11,
   "id": "7dc80c28",
   "metadata": {},
   "outputs": [
    {
     "name": "stdout",
     "output_type": "stream",
     "text": [
      "\n",
      "Classification Report:\n",
      "              precision    recall  f1-score   support\n",
      "\n",
      "           0     0.5714    0.1290    0.2105        93\n",
      "           1     0.0000    0.0000    0.0000        29\n",
      "           2     0.0000    0.0000    0.0000         3\n",
      "           4     0.0000    0.0000    0.0000        10\n",
      "           5     0.1818    0.1818    0.1818        11\n",
      "           6     0.0000    0.0000    0.0000         1\n",
      "           7     0.2667    0.5000    0.3478         8\n",
      "           8     0.0000    0.0000    0.0000         0\n",
      "           9     0.2273    0.5556    0.3226         9\n",
      "          10     0.0000    0.0000    0.0000         2\n",
      "\n",
      "    accuracy                         0.1386       166\n",
      "   macro avg     0.1247    0.1366    0.1063       166\n",
      "weighted avg     0.3574    0.1386    0.1642       166\n",
      "\n"
     ]
    },
    {
     "name": "stderr",
     "output_type": "stream",
     "text": [
      "/Users/cara/anaconda3/lib/python3.11/site-packages/sklearn/metrics/_classification.py:1344: UndefinedMetricWarning: Precision and F-score are ill-defined and being set to 0.0 in labels with no predicted samples. Use `zero_division` parameter to control this behavior.\n",
      "  _warn_prf(average, modifier, msg_start, len(result))\n",
      "/Users/cara/anaconda3/lib/python3.11/site-packages/sklearn/metrics/_classification.py:1344: UndefinedMetricWarning: Recall and F-score are ill-defined and being set to 0.0 in labels with no true samples. Use `zero_division` parameter to control this behavior.\n",
      "  _warn_prf(average, modifier, msg_start, len(result))\n",
      "/Users/cara/anaconda3/lib/python3.11/site-packages/sklearn/metrics/_classification.py:1344: UndefinedMetricWarning: Precision and F-score are ill-defined and being set to 0.0 in labels with no predicted samples. Use `zero_division` parameter to control this behavior.\n",
      "  _warn_prf(average, modifier, msg_start, len(result))\n",
      "/Users/cara/anaconda3/lib/python3.11/site-packages/sklearn/metrics/_classification.py:1344: UndefinedMetricWarning: Recall and F-score are ill-defined and being set to 0.0 in labels with no true samples. Use `zero_division` parameter to control this behavior.\n",
      "  _warn_prf(average, modifier, msg_start, len(result))\n",
      "/Users/cara/anaconda3/lib/python3.11/site-packages/sklearn/metrics/_classification.py:1344: UndefinedMetricWarning: Precision and F-score are ill-defined and being set to 0.0 in labels with no predicted samples. Use `zero_division` parameter to control this behavior.\n",
      "  _warn_prf(average, modifier, msg_start, len(result))\n",
      "/Users/cara/anaconda3/lib/python3.11/site-packages/sklearn/metrics/_classification.py:1344: UndefinedMetricWarning: Recall and F-score are ill-defined and being set to 0.0 in labels with no true samples. Use `zero_division` parameter to control this behavior.\n",
      "  _warn_prf(average, modifier, msg_start, len(result))\n"
     ]
    }
   ],
   "source": [
    "model.load_state_dict(torch.load(\"best_model.pth\"))\n",
    "model.eval()\n",
    "\n",
    "all_preds = []\n",
    "all_labels = []\n",
    "\n",
    "with torch.no_grad():\n",
    "    for images, labels in test_loader:\n",
    "        images = images.to(device)\n",
    "        outputs = model(images)\n",
    "        _, preds = torch.max(outputs, 1)\n",
    "        all_preds.extend(preds.cpu().numpy())\n",
    "        all_labels.extend(labels.numpy())\n",
    "\n",
    "print(\"\\nClassification Report:\")\n",
    "print(classification_report(all_labels, all_preds, digits=4))"
   ]
  },
  {
   "cell_type": "markdown",
   "id": "96f99b96",
   "metadata": {},
   "source": [
    "The EfficientNetB0 model achieved an overall accuracy of 17.47%. Class 0 had the highest support but relatively low recall (0.15), while several classes (e.g., 1, 2, 6, 10) had zero recall and precision, indicating the model struggled with minority classes. The macro-averaged F1-score was 0.1251, reflecting poor balance across all classes, whereas the weighted average F1-score was higher (0.1813) due to dominance of class 0. Overall, the model shows signs of class imbalance and underfitting on smaller classes, despite using Focal Loss."
   ]
  },
  {
   "cell_type": "code",
   "execution_count": 12,
   "id": "8b480bcd",
   "metadata": {},
   "outputs": [
    {
     "data": {
      "image/png": "[encoded data removed]",
      "text/plain": [
       "<Figure size 800x600 with 2 Axes>"
      ]
     },
     "metadata": {},
     "output_type": "display_data"
    }
   ],
   "source": [
    "conf_matrix = confusion_matrix(all_labels, all_preds)\n",
    "plt.figure(figsize=(8, 6))\n",
    "plt.imshow(conf_matrix, cmap='Blues')\n",
    "plt.title('Confusion Matrix')\n",
    "plt.xlabel('Predicted')\n",
    "plt.ylabel('True')\n",
    "plt.colorbar()\n",
    "plt.show()"
   ]
  },
  {
   "cell_type": "markdown",
   "id": "fee8bdfc",
   "metadata": {},
   "source": [
    "The confusion matrix shows that most predictions are concentrated in a few classes, especially class 8, which received a disproportionately high number of predictions. Many true classes (e.g., 2, 3, 6) are frequently misclassified, with predictions scattered across the wrong categories. This pattern highlights that the model struggles to distinguish among minority classes and tends to collapse predictions into dominant categories, likely due to severe class imbalance or insufficient feature discrimination."
   ]
  }
 ],
 "metadata": {
  "kernelspec": {
   "display_name": "Python 3 (ipykernel)",
   "language": "python",
   "name": "python3"
  },
  "language_info": {
   "codemirror_mode": {
    "name": "ipython",
    "version": 3
   },
   "file_extension": ".py",
   "mimetype": "text/x-python",
   "name": "python",
   "nbconvert_exporter": "python",
   "pygments_lexer": "ipython3",
   "version": "3.11.3"
  }
 },
 "nbformat": 4,
 "nbformat_minor": 5
}
